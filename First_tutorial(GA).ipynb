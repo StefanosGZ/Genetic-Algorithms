{
  "nbformat": 4,
  "nbformat_minor": 0,
  "metadata": {
    "colab": {
      "provenance": [],
      "authorship_tag": "ABX9TyPxbUBAIIC4sZtVamRR3XZP",
      "include_colab_link": true
    },
    "kernelspec": {
      "name": "python3",
      "display_name": "Python 3"
    },
    "language_info": {
      "name": "python"
    }
  },
  "cells": [
    {
      "cell_type": "markdown",
      "metadata": {
        "id": "view-in-github",
        "colab_type": "text"
      },
      "source": [
        "<a href=\"https://colab.research.google.com/github/StefanosGZ/Genetic-Algorithms/blob/main/First_tutorial(GA).ipynb\" target=\"_parent\"><img src=\"https://colab.research.google.com/assets/colab-badge.svg\" alt=\"Open In Colab\"/></a>"
      ]
    },
    {
      "cell_type": "code",
      "execution_count": 1,
      "metadata": {
        "id": "cj-y40lg_izl"
      },
      "outputs": [],
      "source": [
        "import numpy as np\n",
        "import matplotlib.pyplot as plt\n"
      ]
    },
    {
      "cell_type": "code",
      "source": [
        "!pip install ypstruct\n",
        "from ypstruct import structure"
      ],
      "metadata": {
        "colab": {
          "base_uri": "https://localhost:8080/"
        },
        "id": "1gHAvnnYADYZ",
        "outputId": "5589bee0-1bc2-45d9-e044-3e6aaf41f0cb"
      },
      "execution_count": 2,
      "outputs": [
        {
          "output_type": "stream",
          "name": "stdout",
          "text": [
            "Requirement already satisfied: ypstruct in /usr/local/lib/python3.10/dist-packages (0.0.2)\n"
          ]
        }
      ]
    },
    {
      "cell_type": "code",
      "source": [
        "# Sphere Test Function\n",
        "def sphere(x):\n",
        "    return sum(x**2)"
      ],
      "metadata": {
        "id": "IZb3Ln58_nJV"
      },
      "execution_count": 3,
      "outputs": []
    },
    {
      "cell_type": "code",
      "source": [
        "#Problem definition\n",
        "problem = structure()\n",
        "problem.costfunc = sphere\n",
        "problem.nvar = 5\n",
        "problem.varmin = [-10, -10, -1, -5, 4]\n",
        "problem.varmax = [10, 10, 1, 5, 10]"
      ],
      "metadata": {
        "id": "PJK4RKo5_vhs"
      },
      "execution_count": 4,
      "outputs": []
    },
    {
      "cell_type": "code",
      "source": [
        "#GA parameters\n",
        "params = structure()\n",
        "params.maxit = 100\n",
        "params.npop = 50\n",
        "params.pc = 1\n",
        "params.gamma = 0.1\n",
        "params.mutation_rate = 0.01\n",
        "params.sigma = 0.1\n",
        "params.beta = 1"
      ],
      "metadata": {
        "id": "_sLG0JRY_vf_"
      },
      "execution_count": 5,
      "outputs": []
    },
    {
      "cell_type": "code",
      "source": [
        "def crossover(p1, p2, gamma=0.1):\n",
        "  c1 = p1.deepcopy()\n",
        "  c2 = p2.deepcopy()\n",
        "\n",
        "  alpha = np.random.uniform(-gamma,1 + gamma ,*c1.position.shape)\n",
        "  c1.position = alpha*p1.position + (1-alpha)*p2.position\n",
        "  c2.position = alpha*p2.position + (1-alpha)*p1.position\n",
        "\n",
        "  return c1, c2"
      ],
      "metadata": {
        "id": "JFuudD_OGLWK"
      },
      "execution_count": 6,
      "outputs": []
    },
    {
      "cell_type": "code",
      "source": [
        "def mutate(x, mutation_rate, sigma):\n",
        "  y = x.deepcopy()\n",
        "  flag = np.random.rand(*y.position.shape) <= mutation_rate\n",
        "  ind = np.argwhere(flag)\n",
        "  y.position[ind] += sigma * np.random.randn(*ind.shape)\n",
        "  return y"
      ],
      "metadata": {
        "id": "Jz5F-QJ1Hb81"
      },
      "execution_count": 7,
      "outputs": []
    },
    {
      "cell_type": "code",
      "source": [
        "def apply_bounds(x, varmin, varmax):\n",
        "  x.position = np.maximum(x.position, varmin)\n",
        "  x.position = np.minimum(x.position, varmax)\n",
        "  return x"
      ],
      "metadata": {
        "id": "-0vIbZ3cJg4a"
      },
      "execution_count": 8,
      "outputs": []
    },
    {
      "cell_type": "code",
      "source": [
        "def roulette_wheel_selection(probabilities):\n",
        "  cumulative_sum = np.cumsum(probabilities)\n",
        "  r = sum(probabilities) * np.random.rand()\n",
        "  ind = np.argwhere(r <= cumulative_sum)\n",
        "  return ind[0][0]"
      ],
      "metadata": {
        "id": "St1Edb1WRzFd"
      },
      "execution_count": 9,
      "outputs": []
    },
    {
      "cell_type": "code",
      "source": [
        "from ypstruct import structure\n",
        "import numpy as np\n",
        "def run(problem, params):\n",
        "  #Problem information\n",
        "  costfunc = problem.costfunc\n",
        "  nvar = problem.nvar\n",
        "  varmin = problem.varmin\n",
        "  varmax = problem.varmax\n",
        "\n",
        "  #Parameters\n",
        "  maxit = params.maxit\n",
        "  npop = params.npop\n",
        "  pc = params.pc\n",
        "  nc = int(np.round(pc * npop/2)*2)\n",
        "  gamma = params.gamma\n",
        "  mutation_rate = params.mutation_rate\n",
        "  sigma = params.sigma\n",
        "  beta = params.beta\n",
        "\n",
        "  #Empy Individual Template\n",
        "  empty_individual = structure()\n",
        "  empty_individual.position = None\n",
        "  empty_individual.cost = None\n",
        "\n",
        "  #BestSolution Found\n",
        "  bestsol = empty_individual.deepcopy()\n",
        "  bestsol.cost = np.inf\n",
        "\n",
        "  #Initialized Population\n",
        "  pop = empty_individual.repeat(npop)\n",
        "  for i in range(npop):\n",
        "    pop[i].position = np.random.uniform(varmin,varmax,nvar)\n",
        "    pop[i].cost = costfunc(pop[i].position)\n",
        "    if pop[i].cost < bestsol.cost:\n",
        "      bestsol = pop[i].deepcopy()\n",
        "\n",
        "  #Best Cost of Iterations\n",
        "  bestcost = np.empty(maxit)\n",
        "\n",
        "  #Main Loop\n",
        "  for it in range(maxit):\n",
        "    #Iteration loop\n",
        "    popc = []\n",
        "\n",
        "    costs = np.array([x.cost for x in pop])\n",
        "    avg_cost = np.mean(costs)\n",
        "    if avg_cost != 0:\n",
        "      costs /= avg_cost\n",
        "    probs = np.exp(-beta*costs)\n",
        "\n",
        "    for _ in range(nc//2):\n",
        "      #Population loop\n",
        "      #Selection of parent randomly\n",
        "      \"\"\"q = np.random.permutation(npop)\n",
        "      p1 = pop[q[0]]\n",
        "      p2 = pop[q[1]]\"\"\"\n",
        "\n",
        "      #Selection of Parents with Roulet Wheel Selection\n",
        "      p1 = pop[roulette_wheel_selection(probs)]\n",
        "      p2 = pop[roulette_wheel_selection(probs)]\n",
        "\n",
        "      #Performing Crossover\n",
        "      c1, c2 = crossover(p1, p2, gamma)\n",
        "\n",
        "      #Performing Mutation\n",
        "      c1 = mutate(c1, mutation_rate, sigma)\n",
        "      c2 = mutate(c2, mutation_rate, sigma)\n",
        "\n",
        "      #Applying Bounds\n",
        "      apply_bounds(c1, varmin, varmax)\n",
        "      apply_bounds(c2, varmin, varmax)\n",
        "\n",
        "      #Evaluate First Offspring\n",
        "      c1.cost = costfunc(c1.position)\n",
        "      if c1.cost < bestsol.cost:\n",
        "        bestsol = c1.deepcopy()\n",
        "\n",
        "      #Evaluate Second Offspring\n",
        "      c2.cost = costfunc(c2.position)\n",
        "      if c2.cost < bestsol.cost:\n",
        "        bestsol = c2.deepcopy()\n",
        "\n",
        "      #Add offsprings to popc\n",
        "      popc.append(c1)\n",
        "      popc.append(c2)\n",
        "\n",
        "\n",
        "    #Iteration loop\n",
        "    #Merge, Sort and Select\n",
        "    pop += popc\n",
        "    pop = sorted(pop, key=lambda x: x.cost)\n",
        "    pop = pop[0:npop]\n",
        "\n",
        "    #Store Best Cost\n",
        "    bestcost[it] = bestsol.cost\n",
        "\n",
        "    #Show Iteration Information\n",
        "    print(f\"Iteration {it}: Best Cost = {bestcost[it]}\")\n",
        "\n",
        "  #Output\n",
        "  out = structure()\n",
        "  out.pop = pop\n",
        "  out.bestsol = bestsol\n",
        "  out.bestcost = bestcost\n",
        "  return out"
      ],
      "metadata": {
        "id": "k972JB2x_vaq"
      },
      "execution_count": 10,
      "outputs": []
    },
    {
      "cell_type": "code",
      "source": [
        "#Run GA\n",
        "out = run(problem,params)"
      ],
      "metadata": {
        "colab": {
          "base_uri": "https://localhost:8080/"
        },
        "id": "ZLawLhFfc-8y",
        "outputId": "b8c6f03b-41a1-48f1-8934-1683741183a9"
      },
      "execution_count": 11,
      "outputs": [
        {
          "output_type": "stream",
          "name": "stdout",
          "text": [
            "Iteration 0: Best Cost = 27.707425822398356\n",
            "Iteration 1: Best Cost = 25.869378562400716\n",
            "Iteration 2: Best Cost = 24.67830563296182\n",
            "Iteration 3: Best Cost = 22.244946397977042\n",
            "Iteration 4: Best Cost = 21.74753324718524\n",
            "Iteration 5: Best Cost = 21.36174400412307\n",
            "Iteration 6: Best Cost = 20.901950363879628\n",
            "Iteration 7: Best Cost = 20.901950363879628\n",
            "Iteration 8: Best Cost = 20.901950363879628\n",
            "Iteration 9: Best Cost = 20.77635518620242\n",
            "Iteration 10: Best Cost = 19.174985631844972\n",
            "Iteration 11: Best Cost = 19.174985631844972\n",
            "Iteration 12: Best Cost = 18.415694856484595\n",
            "Iteration 13: Best Cost = 18.241907327291635\n",
            "Iteration 14: Best Cost = 18.241907327291635\n",
            "Iteration 15: Best Cost = 17.787489701206052\n",
            "Iteration 16: Best Cost = 17.787489701206052\n",
            "Iteration 17: Best Cost = 17.787489701206052\n",
            "Iteration 18: Best Cost = 17.787489701206052\n",
            "Iteration 19: Best Cost = 17.787489701206052\n",
            "Iteration 20: Best Cost = 17.787489701206052\n",
            "Iteration 21: Best Cost = 17.787489701206052\n",
            "Iteration 22: Best Cost = 17.787489701206052\n",
            "Iteration 23: Best Cost = 17.787489701206052\n",
            "Iteration 24: Best Cost = 17.787489701206052\n",
            "Iteration 25: Best Cost = 17.775013103237548\n",
            "Iteration 26: Best Cost = 17.775013103237548\n",
            "Iteration 27: Best Cost = 17.765209403740414\n",
            "Iteration 28: Best Cost = 17.765209403740414\n",
            "Iteration 29: Best Cost = 17.765209403740414\n",
            "Iteration 30: Best Cost = 17.761226448276485\n",
            "Iteration 31: Best Cost = 17.761226448276485\n",
            "Iteration 32: Best Cost = 17.761226448276485\n",
            "Iteration 33: Best Cost = 17.71083840107385\n",
            "Iteration 34: Best Cost = 17.708619260095055\n",
            "Iteration 35: Best Cost = 17.06563480481592\n",
            "Iteration 36: Best Cost = 17.06563480481592\n",
            "Iteration 37: Best Cost = 17.06563480481592\n",
            "Iteration 38: Best Cost = 17.01231654777944\n",
            "Iteration 39: Best Cost = 17.01231654777944\n",
            "Iteration 40: Best Cost = 16.971075772350325\n",
            "Iteration 41: Best Cost = 16.90334923674389\n",
            "Iteration 42: Best Cost = 16.90334923674389\n",
            "Iteration 43: Best Cost = 16.90334923674389\n",
            "Iteration 44: Best Cost = 16.90334923674389\n",
            "Iteration 45: Best Cost = 16.90334923674389\n",
            "Iteration 46: Best Cost = 16.90334923674389\n",
            "Iteration 47: Best Cost = 16.067540722901892\n",
            "Iteration 48: Best Cost = 16.01578808325842\n",
            "Iteration 49: Best Cost = 16.01578808325842\n",
            "Iteration 50: Best Cost = 16.01578808325842\n",
            "Iteration 51: Best Cost = 16.01578808325842\n",
            "Iteration 52: Best Cost = 16.01578808325842\n",
            "Iteration 53: Best Cost = 16.008878967965877\n",
            "Iteration 54: Best Cost = 16.008878967965877\n",
            "Iteration 55: Best Cost = 16.008878967965877\n",
            "Iteration 56: Best Cost = 16.008878967965877\n",
            "Iteration 57: Best Cost = 16.008842334748937\n",
            "Iteration 58: Best Cost = 16.00561375161379\n",
            "Iteration 59: Best Cost = 16.00276522301854\n",
            "Iteration 60: Best Cost = 16.00276522301854\n",
            "Iteration 61: Best Cost = 16.00276522301854\n",
            "Iteration 62: Best Cost = 16.00245726763281\n",
            "Iteration 63: Best Cost = 16.002284232102046\n",
            "Iteration 64: Best Cost = 16.002284232102046\n",
            "Iteration 65: Best Cost = 16.002155898188093\n",
            "Iteration 66: Best Cost = 16.001555026863105\n",
            "Iteration 67: Best Cost = 16.001555026863105\n",
            "Iteration 68: Best Cost = 16.001271898563097\n",
            "Iteration 69: Best Cost = 16.001181400300045\n",
            "Iteration 70: Best Cost = 16.001009959435144\n",
            "Iteration 71: Best Cost = 16.000848321680234\n",
            "Iteration 72: Best Cost = 16.00055657766205\n",
            "Iteration 73: Best Cost = 16.00055657766205\n",
            "Iteration 74: Best Cost = 16.00041754934551\n",
            "Iteration 75: Best Cost = 16.000335663289306\n",
            "Iteration 76: Best Cost = 16.00022193054069\n",
            "Iteration 77: Best Cost = 16.00021347380437\n",
            "Iteration 78: Best Cost = 16.00021347380437\n",
            "Iteration 79: Best Cost = 16.000207024437255\n",
            "Iteration 80: Best Cost = 16.00013718043033\n",
            "Iteration 81: Best Cost = 16.00013718043033\n",
            "Iteration 82: Best Cost = 16.00013718043033\n",
            "Iteration 83: Best Cost = 16.000086223389566\n",
            "Iteration 84: Best Cost = 16.000086223389566\n",
            "Iteration 85: Best Cost = 16.000086223389566\n",
            "Iteration 86: Best Cost = 16.000086223389566\n",
            "Iteration 87: Best Cost = 16.000086223389566\n",
            "Iteration 88: Best Cost = 16.000086223389566\n",
            "Iteration 89: Best Cost = 16.000086223389566\n",
            "Iteration 90: Best Cost = 16.000043818692887\n",
            "Iteration 91: Best Cost = 16.000043818692887\n",
            "Iteration 92: Best Cost = 16.00003393937744\n",
            "Iteration 93: Best Cost = 16.00003393937744\n",
            "Iteration 94: Best Cost = 16.000032002816425\n",
            "Iteration 95: Best Cost = 16.000032002816425\n",
            "Iteration 96: Best Cost = 16.000032002816425\n",
            "Iteration 97: Best Cost = 16.000032002816425\n",
            "Iteration 98: Best Cost = 16.000032002816425\n",
            "Iteration 99: Best Cost = 16.000032002816425\n"
          ]
        }
      ]
    },
    {
      "cell_type": "code",
      "source": [
        "#Results\n",
        "plt.plot(out.bestcost)\n",
        "#plt.semilogy(out.bestcost)\n",
        "plt.xlim(0,params.maxit)\n",
        "plt.xlabel('Iterations')\n",
        "plt.ylabel('Best Costs')\n",
        "plt.title('Genetic Algorithm (GA)')\n",
        "plt.grid(True)\n",
        "plt.show()"
      ],
      "metadata": {
        "colab": {
          "base_uri": "https://localhost:8080/",
          "height": 472
        },
        "id": "YXYAqctmdC9P",
        "outputId": "1e555737-a2da-4bb1-8624-2591aad1bf88"
      },
      "execution_count": 12,
      "outputs": [
        {
          "output_type": "display_data",
          "data": {
            "text/plain": [
              "<Figure size 640x480 with 1 Axes>"
            ],
            "image/png": "[encoded data removed]"
          },
          "metadata": {}
        }
      ]
    }
  ]
}